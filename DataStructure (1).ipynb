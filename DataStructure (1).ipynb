{
  "nbformat": 4,
  "nbformat_minor": 0,
  "metadata": {
    "colab": {
      "provenance": []
    },
    "kernelspec": {
      "name": "python3",
      "display_name": "Python 3"
    },
    "language_info": {
      "name": "python"
    }
  },
  "cells": [
    {
      "cell_type": "markdown",
      "source": [
        "**(1.) What are data structures, and why are they important?**\n",
        "\n",
        "**Ans-** Data structures are specialized formats for organizing, processing, and storing data in a computer so it can be used efficiently. Think of them as containers or blueprints that help manage data in a way that makes it easier to access, modify, and perform operations on.\n",
        "\n",
        "**Why Are They Important?**\n",
        "\n",
        "Data structures are the backbone of efficient software.\n",
        "\n",
        " Here’s why they matter:\n",
        "\n",
        "(a) Performance Optimization: Choosing the right structure can drastically improve speed and memory usage.\n",
        "\n",
        "(b) Scalability: They help systems handle large volumes of data smoothly.\n",
        "\n",
        "(c) Code Efficiency: Cleaner, more maintainable code with fewer bugs.\n",
        "\n",
        "(d) Algorithm Support: Many algorithms rely on specific data structures to function properly.\n",
        "\n",
        "(e) Real-World Modeling: They help simulate complex systems like social networks, maps, and file systems."
      ],
      "metadata": {
        "id": "VU-FmwjhhaOs"
      }
    },
    {
      "cell_type": "markdown",
      "source": [
        "**(2.) Explain the difference between mutable and immutable data types with examples.**\n",
        "\n",
        "**Ans-** **Mutable Data Types**\n",
        "\n",
        "These can be changed after creation. You can modify, add, or remove elements without creating a new object.\n",
        "\n",
        "Examples:\n",
        "\n",
        "(a) List: You can append, remove, or change elements.\n",
        "\n",
        "(b) Dictionary: You can add or update key-value pairs.\n",
        "\n",
        "(c) Set: You can add or remove elements."
      ],
      "metadata": {
        "id": "Xa2cLtikjm_X"
      }
    },
    {
      "cell_type": "code",
      "source": [
        "#Mutable example....\n",
        "my_list = [1, 2, 3]\n",
        "my_list.append(4)     # Now it's [1, 2, 3, 4]\n",
        "my_list[0] = 99       # Now it's [99, 2, 3, 4]\n",
        "my_list"
      ],
      "metadata": {
        "colab": {
          "base_uri": "https://localhost:8080/"
        },
        "id": "ftap9zmSmXNl",
        "outputId": "9a88f6aa-64a9-4f74-831d-1a58767393b6"
      },
      "execution_count": 1,
      "outputs": [
        {
          "output_type": "execute_result",
          "data": {
            "text/plain": [
              "[99, 2, 3, 4]"
            ]
          },
          "metadata": {},
          "execution_count": 1
        }
      ]
    },
    {
      "cell_type": "markdown",
      "source": [
        "**Immutable Data Types**\n",
        "\n",
        "These cannot be changed after creation. Any operation that seems to modify them actually creates a new object.\n",
        "\n",
        "Examples:\n",
        "\n",
        "(a) Integer\n",
        "\n",
        "(b) Float\n",
        "\n",
        "(c) String\n",
        "\n",
        "(d) Tuple\n",
        "\n",
        "(e) Boolean"
      ],
      "metadata": {
        "id": "UxC6BAkRm76l"
      }
    },
    {
      "cell_type": "code",
      "source": [
        "#Immutable example....\n",
        "my_string = \"hello\"\n",
        "new_string = my_string.replace(\"h\", \"j\")  # \"jello\"\n",
        "\n"
      ],
      "metadata": {
        "id": "v02S4pImoqOi"
      },
      "execution_count": null,
      "outputs": []
    },
    {
      "cell_type": "markdown",
      "source": [
        "**(3.) What are the main differences between lists and tuples in Python?**\n",
        "\n",
        "**Ans-**In Python, lists and tuples are both used to store collections of data, but they have key differences that make them suitable for different use cases:\n",
        "\n",
        "**(a.) Mutability**\n",
        "\n",
        "Lists: Mutable, meaning you can modify their content (add, remove, or change elements).\n",
        "\n",
        "Tuples: Immutable, meaning their content cannot be changed after creation.\n",
        "\n",
        "**(b.) Syntax**\n",
        "\n",
        "Lists: Defined using square brackets [ ].\n",
        "Example: my_list = [1, 2, 3]\n",
        "\n",
        "Tuples: Defined using parentheses ( ).\n",
        "Example: my_tuple = (1, 2, 3)\n",
        "\n",
        "**(c.) Performance**\n",
        "\n",
        "Lists: Slightly slower due to the overhead of mutability.\n",
        "\n",
        "Tuples: Faster because they are immutable and require less memory.\n",
        "\n",
        "**(d.) Use Cases**\n",
        "\n",
        "Lists: Ideal for collections of data that may need to be modified, such as dynamic datasets.\n",
        "\n",
        "Tuples: Best for fixed collections of data, such as coordinates or constants.\n",
        "\n",
        "**(e.) Memory Usage**\n",
        "\n",
        "Lists: Consume more memory due to their dynamic nature.\n",
        "\n",
        "Tuples: More memory-efficient as they are immutable.\n",
        "\n",
        "**(f.) Methods**\n",
        "\n",
        "Lists: Have more built-in methods (e.g., append(), remove(), sort()).\n",
        "\n",
        "Tuples: Have fewer methods, mainly for accessing data (e.g., count(), index()).\n",
        "\n",
        "**(g.) Hashability**\n",
        "\n",
        "Lists: Not hashable, so they cannot be used as keys in dictionaries.\n",
        "\n",
        "Tuples: Hashable (if they contain only hashable elements), so they can be used as dictionary keys."
      ],
      "metadata": {
        "id": "6MGEjauYpey7"
      }
    },
    {
      "cell_type": "code",
      "source": [
        "#Example Comparison:\n",
        "# List\n",
        "my_list = [1, 2, 3]\n",
        "my_list[0] = 10  # Allowed\n",
        "my_list.append(4)  # Allowed\n",
        "print(my_list)\n",
        "# Tuple\n",
        "my_tuple = (1, 2, 3)\n",
        "#my_tuple[0] = 10  # Error: Tuples are immutable"
      ],
      "metadata": {
        "colab": {
          "base_uri": "https://localhost:8080/"
        },
        "id": "d7oR0DGluOPK",
        "outputId": "26c0bd52-394e-48f6-e38f-f032f4b72c4c"
      },
      "execution_count": null,
      "outputs": [
        {
          "output_type": "stream",
          "name": "stdout",
          "text": [
            "[10, 2, 3, 4]\n"
          ]
        }
      ]
    },
    {
      "cell_type": "markdown",
      "source": [
        "**(4.) Describe how dictionaries store data?**\n",
        "\n",
        "**Ans-**In Python, dictionaries are a built-in data structure that store data in key-value pairs. Here's a concise explanation of how they work:\n",
        "\n",
        "**Key Features of Dictionaries:**\n",
        "\n",
        "**(a)Key-Value Pairs:** Each item in a dictionary is stored as a pair, where the key is unique and immutable (e.g., strings, numbers, tuples), and the value can be of any data type and can be duplicated."
      ],
      "metadata": {
        "id": "yQmBErXvyOG9"
      }
    },
    {
      "cell_type": "code",
      "source": [
        "my_dict = {\"namme\": \"Alice\", \"age\": 25, \"country\": \"america\"}"
      ],
      "metadata": {
        "id": "dBRKYHnv2Eaq"
      },
      "execution_count": null,
      "outputs": []
    },
    {
      "cell_type": "markdown",
      "source": [
        "**(b) Hashing for Keys:** Keys are hashed internally, which allows for fast lookups, insertions, and deletions. This makes dictionaries highly efficient for retrieving data based on keys.\n",
        "\n",
        "**(c) Order Preservation:** Starting from Python 3.7, dictionaries maintain the insertion order of keys, meaning items are stored in the order they were added.\n",
        "\n",
        "**(d) Mutable:** Dictionaries are changeable, so you can add, update, or remove key-value pairs after creation."
      ],
      "metadata": {
        "id": "dkqs6t9f2cv4"
      }
    },
    {
      "cell_type": "code",
      "source": [
        "my_dict = {\"namme\": \"Alice\", \"age\": 25, \"country\": \"america\"}\n",
        "my_dict[\"age\"] = 26  # Update value\n",
        "my_dict[\"country\"] = \"India\"  # Add new key-value pair\n",
        "my_dict\n"
      ],
      "metadata": {
        "colab": {
          "base_uri": "https://localhost:8080/"
        },
        "id": "vVsUbRe43BDv",
        "outputId": "a4f23083-48b9-4133-80ef-482b15fc1aa2"
      },
      "execution_count": null,
      "outputs": [
        {
          "output_type": "execute_result",
          "data": {
            "text/plain": [
              "{'namme': 'Alice', 'age': 26, 'country': 'India'}"
            ]
          },
          "metadata": {},
          "execution_count": 15
        }
      ]
    },
    {
      "cell_type": "markdown",
      "source": [
        "**(e) No Duplicate Keys:** Keys must be unique. If a duplicate key is added, the latest value overwrites the previous one."
      ],
      "metadata": {
        "id": "XWfB-FVB3j0Y"
      }
    },
    {
      "cell_type": "code",
      "source": [
        "#here is how dictionaries store data....\n",
        "# Creating a dictionary\n",
        "student = {\n",
        "    \"id\": 101,\n",
        "    \"name\": \"Rahul\",\n",
        "    \"grades\": [85, 90, 78]\n",
        "}\n",
        "\n",
        "# Accessing values\n",
        "print(student[\"name\"])  # Output: Rahul\n",
        "\n",
        "# Adding a new key-value pair\n",
        "student[\"age\"] = 20\n",
        "# Updating an existing value\n",
        "student[\"grades\"] = [88, 92, 80]\n",
        "\n",
        "# Removing a key-value pair\n",
        "del student[\"id\"]\n",
        "print(student)"
      ],
      "metadata": {
        "colab": {
          "base_uri": "https://localhost:8080/"
        },
        "id": "6eqBAxJz30P1",
        "outputId": "0969af24-96e0-423c-8562-ffbdcb9ce935"
      },
      "execution_count": null,
      "outputs": [
        {
          "output_type": "stream",
          "name": "stdout",
          "text": [
            "Rahul\n",
            "{'name': 'Rahul', 'grades': [88, 92, 80], 'age': 20}\n"
          ]
        }
      ]
    },
    {
      "cell_type": "markdown",
      "source": [
        "**(5.) Why might you use a set instead of a list in Python?**\n",
        "\n",
        "**Ans-**Sets automatically remove duplicate elements and provide faster membership testing compared to lists.\n",
        "\n",
        "**(6.) What is a string in Python, and how is it different from a list?**\n",
        "\n",
        "**Ans-**A string is an immutable sequence of characters, while a list is a mutable sequence of elements (which can be of any type).\n",
        "\n",
        "**(7.) How do tuples ensure data integrity in Python?**\n",
        "\n",
        "**Ans-**Tuples are immutable, which means their contents cannot be altered after creation, ensuring the integrity of fixed data sets.\n",
        "\n",
        "**(8.) What is a hash table, and how does it relate to dictionaries in Python?**\n",
        "\n",
        "**Ans-**A hash table is a data structure that stores key-value pairs using a hash function to compute the index for each key. Python dictionaries are implemented using hash tables.\n",
        "\n",
        "**(9.) Can lists contain different data types in Python?**\n",
        "\n",
        "**Ans-**Yes, Python lists can contain elements of varying data types such as integers, strings, lists, etc.\n",
        "\n",
        "**(10.) Explain why strings are immutable in Python.**\n",
        "\n",
        "**Ans-**Strings are immutable to improve performance, enable thread safety, and ensure hash consistency (useful for using strings as dictionary keys).\n",
        "\n",
        "**(11.) What advantages do dictionaries offer over lists for certain tasks?**\n",
        "\n",
        "**Ans-**Dictionaries allow fast lookups and access by key, making them ideal for tasks involving labeled data, unlike lists which rely on index-based access.\n",
        "\n",
        "**(12.) Describe a scenario where using a tuple would be preferable over a list.**\n",
        "\n",
        "**Ans-**Tuples are ideal when storing constant data like coordinates ((x, y)) or configuration settings that should not be modified.\n",
        "\n",
        "**(13.) How do sets handle duplicate values in Python?**\n",
        "\n",
        "**Ans-**Sets automatically discard any duplicate values and only retain unique elements.\n",
        "\n",
        "**(14.) How does the “in” keyword work differently for lists and dictionaries?**\n",
        "\n",
        "**Ans-**In a list: Checks if a value exists.\n",
        "In a dictionary: Checks if a key exists.\n",
        "\n",
        "**(15.) Can you modify the elements of a tuple?Explain why or why not.**\n",
        "\n",
        "**Ans-**No, tuples are immutable, meaning their elements cannot be added, removed, or changed after creation.\n",
        "\n",
        "**(16.) What is a nested dictionary, and give an example of its use case.**\n",
        "\n",
        "**Ans-**A nested dictionary contains another dictionary as a value.\n",
        "\n",
        "Example: {\"student\": {\"name\": \"Alice\", \"age\": 20}}\n",
        "\n",
        "Use case: Representing complex data like user profiles or JSON objects.\n",
        "\n",
        "**(17.) Describe the time complexity of accessing elements in a dictionary.**\n",
        "\n",
        "**Ans-**On average, dictionary access has a time complexity of O(1) due to hash-based indexing.\n",
        "\n",
        "**(18.) In what situations are lists preferred over dictionaries?**\n",
        "\n",
        "**Ans-**When order is important, or when data does not require unique identifiers/keys—like a sequence of items or records.\n",
        "\n",
        "**(19.) Why are dictionaries considered unordered, and how does that affect data retrieval?**\n",
        "\n",
        "**Ans-**Prior to Python 3.7, dictionaries didn’t maintain insertion order. Even now, their primary access mechanism is by key, not position, which affects iteration and retrieval if order matters.\n",
        "\n",
        "**(20.) Explain the difference between a list and a dictionary in terms of data retrieval.**\n",
        "List: Access via numerical index (list[0])\n",
        "Dictionary: Access via key (dict[\"name\"])"
      ],
      "metadata": {
        "id": "tNXpAoRDn1ba"
      }
    },
    {
      "cell_type": "markdown",
      "source": [
        "# **Practical Questions – Python Code**"
      ],
      "metadata": {
        "id": "obcGRuXkyFp3"
      }
    },
    {
      "cell_type": "code",
      "source": [
        "# 1. Create a string with your name and print it\n",
        "name = \"Sandeep Sharma\"\n",
        "print(name)\n",
        "\n",
        "Sandeep Sharma\n",
        "\n",
        "# 2. Find the length of the string \"Hello World\"\n",
        "print(len(\"Hello World\"))\n",
        "\n",
        "11\n",
        "\n",
        "# 3. Slice the first 3 characters from the string \"Python Programming\"\n",
        "print(\"Python Programming\"[:3])\n",
        "\n",
        "Pyt\n",
        "\n",
        "# 4. Convert the string \"hello\" to uppercase\n",
        "print(\"hello\".upper())\n",
        "\n",
        "HELLO\n",
        "\n",
        "# 5. Replace the word \"apple\" with \"orange\" in the string \"I like apple\"\n",
        "print(\"I like apple\".replace(\"apple\", \"orange\"))\n",
        "\n",
        "I like orange\n",
        "\n",
        "# 6. Create a list with numbers 1 to 5 and print it\n",
        "numbers = [1, 2, 3, 4, 5]\n",
        "print(numbers)\n",
        "\n",
        "[1, 2, 3, 4, 5]\n",
        "\n",
        "# 7. Append the number 10 to the list [1, 2, 3, 4]\n",
        "lst = [1, 2, 3, 4]\n",
        "lst.append(10)\n",
        "print(lst)\n",
        "\n",
        "[1, 2, 3, 4, 10]\n",
        "\n",
        "# 8. Remove the number 3 from the list [1, 2, 3, 4, 5]\n",
        "lst = [1, 2, 3, 4, 5]\n",
        "lst.remove(3)\n",
        "print(lst)\n",
        "\n",
        "[1, 2, 4, 5]\n",
        "\n",
        "# 9. Access the second element in the list ['a', 'b', 'c', 'd']\n",
        "list = ['a', 'b', 'c', 'd']\n",
        "print(list[1])\n",
        "\n",
        "b\n",
        "\n",
        "# 10. Reverse the list [10, 20, 30, 40, 50]\n",
        "list = [10, 20, 30, 40, 50]\n",
        "list.reverse()\n",
        "print(list)\n",
        "\n",
        "[50, 40, 30, 20, 10]\n",
        "\n",
        "# 11. Create a tuple with the elements 100, 200, 300 and print it\n",
        "t = (100, 200, 300)\n",
        "print(t)\n",
        "\n",
        "(100, 200, 300)\n",
        "\n",
        "# 12. Access the second-to-last element of the tuple ('red', 'green', 'blue', 'yellow')\n",
        "colors = ('red', 'green', 'blue', 'yellow')\n",
        "print(colors[-2])\n",
        "\n",
        "blue\n",
        "\n",
        "# 13. Find the minimum number in the tuple (10, 20, 5, 15)\n",
        "t = (10, 20, 5, 15)\n",
        "print(min(t))\n",
        "\n",
        "5\n",
        "\n",
        "# 14. Find the index of the element \"cat\" in the tuple ('dog', 'cat', 'rabbit')\n",
        "t = ('dog', 'cat', 'rabbit')\n",
        "print(t.index(\"cat\"))\n",
        "\n",
        "\n",
        "1\n",
        "\n",
        "# 15. Create a tuple with fruits and check if \"kiwi\" is in it\n",
        "fruits = ('apple', 'banana', 'orange')\n",
        "if \"kiwi\" in fruits:\n",
        "    print(\"kiwi is in the tuple\")\n",
        "else:\n",
        "    print(\"kiwi is not in the tuple\")\n",
        "\n",
        "kiwi is not in the tuple\n",
        "\n",
        "# 16. Create a set with the elements 'a', 'b', 'c' and print it\n",
        "s = {'a', 'b', 'c'}\n",
        "print(s)\n",
        "\n",
        "{'a', 'b', 'c'}\n",
        "\n",
        "# 17. Clear all elements from the set {1, 2, 3, 4, 5}\n",
        "s = {1, 2, 3, 4, 5}\n",
        "s.clear()\n",
        "print(s)\n",
        "\n",
        "set()\n",
        "\n",
        "# 18. Remove the element 4 from the set {1, 2, 3, 4}\n",
        "s = {1, 2, 3, 4}\n",
        "s.remove(4)\n",
        "print(s)\n",
        "\n",
        "{1, 2, 3}\n",
        "\n",
        "# 19. Find the union of two sets {1, 2, 3} and {3, 4, 5}\n",
        "s1 = {1, 2, 3}\n",
        "s2 = {3, 4, 5}\n",
        "print(s1.union(s2))\n",
        "\n",
        "{1, 2, 3, 4, 5}\n",
        "\n",
        "# 20. Find the intersection of two sets {1, 2, 3} and {2, 3, 4}\n",
        "s1 = {1, 2, 3}\n",
        "s2 = {2, 3, 4}\n",
        "print(s1.intersection(s2))\n",
        "\n",
        "{2, 3}\n",
        "\n",
        "# 21. Create a dictionary with the keys \"name\", \"age\", and \"city\", and print it\n",
        "person = {\"name\": \"Sandeep\", \"age\": 24, \"city\": \"Alwar\"}\n",
        "print(person)\n",
        "\n",
        "{'name': 'Sandeep', 'age': 24, 'city': 'Alwar'}\n",
        "\n",
        "# 22. Add a new key-value pair \"country\": \"USA\" to the dictionary {'name': 'John', 'age': 25}\n",
        "person = {'name': 'John', 'age': 25}\n",
        "person[\"country\"] = \"USA\"\n",
        "print(person)\n",
        "\n",
        "{'name': 'John', 'age': 25, 'country': 'USA'}\n",
        "\n",
        "# 23. Access the value associated with the key \"name\"\n",
        "person = {'name': 'Sandeep', 'age': 24}\n",
        "print(person[\"name\"])\n",
        "\n",
        "Sandeep\n",
        "\n",
        "# 24. Remove the key \"age\" from the dictionary\n",
        "d = {'name': 'Sandeep', 'age': 24, 'city': 'Alwar'}\n",
        "d.pop(\"age\")\n",
        "print(d)\n",
        "\n",
        "{'name': 'Sandeep', 'city': 'Alwar'}\n",
        "\n",
        "# 25. Check if the key \"city\" exists in the dictionary\n",
        "d = {'name': 'Sandeep', 'age': 24, 'city': 'Alwar'}\n",
        "if \"city\" in d:\n",
        "    print(\"city exists in the dictionary\")\n",
        "else:\n",
        "    print(\"city does not exist in the dictionary\")\n",
        "\n",
        "city exists in the dictionary\n",
        "\n",
        "# 26. Create a list, a tuple, and a dictionary, and print them all\n",
        "lst = [1, 2, 3]\n",
        "t = (4, 5, 6)\n",
        "d = {\"a\": 7, \"b\": 8, \"c\": 9}\n",
        "print(f\"List: {lst}\")\n",
        "print(f\"Tuple: {t}\")\n",
        "print(f\"Dictionary: {d}\")\n",
        "\n",
        "List: [1, 2, 3]\n",
        "Tuple: (4, 5, 6)\n",
        "Dictionary: {'a': 7, 'b': 8, 'c': 9}\n",
        "\n",
        "# 27. Create a list of 5 random numbers between 1 and 100, sort it, and print the result\n",
        "import random\n",
        "lst = random.sample(range(1, 101), 5)\n",
        "lst.sort()\n",
        "print(lst)\n",
        "\n",
        "[46, 51, 71, 81, 91]\n",
        "\n",
        "# 28. Create a list with strings and print the element at the third index\n",
        "strings = [\"apple\", \"banana\", \"cherry\", \"date\", \"fig\"]\n",
        "print(strings[3])\n",
        "\n",
        "date\n",
        "\n",
        "# 29. Combine two dictionaries into one and print the result\n",
        "dict1 = {\"a\": 1, \"b\": 2}\n",
        "dict2 = {\"c\": 3, \"d\": 4}\n",
        "combined = {**dict1, **dict2}\n",
        "print(combined)\n",
        "\n",
        "{'a': 1, 'b': 2, 'c': 3, 'd': 4}\n",
        "\n",
        "# 30. Convert a list of strings into a set\n",
        "words = [\"apple\", \"banana\", \"apple\", \"cherry\"]\n",
        "print(set(words))\n",
        "\n",
        "{'banana', 'cherry', 'apple'}\n"
      ],
      "metadata": {
        "id": "M1XbdpK7yUiO"
      },
      "execution_count": null,
      "outputs": []
    }
  ]
}